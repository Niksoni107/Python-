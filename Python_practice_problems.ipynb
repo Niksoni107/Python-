{
  "nbformat": 4,
  "nbformat_minor": 0,
  "metadata": {
    "colab": {
      "name": "MS_Python_Practice.ipynb",
      "provenance": [],
      "collapsed_sections": []
    },
    "kernelspec": {
      "name": "python3",
      "display_name": "Python 3"
    },
    "language_info": {
      "name": "python"
    }
  },
  "cells": [
    {
      "cell_type": "code",
      "execution_count": 16,
      "metadata": {
        "colab": {
          "base_uri": "https://localhost:8080/"
        },
        "id": "14UI3OEjQsgQ",
        "outputId": "065ffa44-a389-4025-fdd2-9fdacf569521"
      },
      "outputs": [
        {
          "output_type": "stream",
          "name": "stdout",
          "text": [
            "123654\n",
            "456321\n"
          ]
        }
      ],
      "source": [
        "# Q1 Write a program to reverse an integer in Python.\n",
        "\n",
        "def rev(num):\n",
        "  reversed_num = 0\n",
        "  while num != 0:\n",
        "      digit = num % 10\n",
        "      reversed_num = reversed_num * 10 + digit\n",
        "      num =  num // 10\n",
        "  print(reversed_num)\n",
        "num = int(input())\n",
        "rev(num)"
      ]
    },
    {
      "cell_type": "code",
      "source": [
        "# Q2 Write a program in Python to check whether an integer is Armstrong number or not.\n",
        "# Armstrong number is a number that is equal to the sum of cubes of its digits. \n",
        "# For example 0, 1, 153, 370, 371 and 407 are the Armstrong numbers\n",
        "\n",
        "def chk_arm(number):\n",
        "  temp = number\n",
        "  add_sum = 0\n",
        "  while temp!=0:\n",
        "      v = temp%10\n",
        "      add_sum =add_sum + v*v*v\n",
        "      temp = temp//10\n",
        "  if add_sum==number:\n",
        "      print('Armstrong Number')\n",
        "  else:\n",
        "      print('Not a Armstrong Number')\n",
        "\n",
        "number = 371\n",
        "chk_arm(number)"
      ],
      "metadata": {
        "colab": {
          "base_uri": "https://localhost:8080/"
        },
        "id": "0nV2UZSLaC5a",
        "outputId": "427226f9-bba2-44b3-f7e2-06bd2ada9e79"
      },
      "execution_count": 26,
      "outputs": [
        {
          "output_type": "stream",
          "name": "stdout",
          "text": [
            "Armstrong Number\n"
          ]
        }
      ]
    },
    {
      "cell_type": "code",
      "source": [
        "user_input= int(input('three digit num: '))\n",
        "num=user_input\n",
        "\n",
        "\n",
        "a= num % 10\n",
        "num= num // 10\n",
        "b= num % 10\n",
        "c= num // 10\n",
        "if (a**3)+(b**3)+(c**3)==user_input:\n",
        "    print('Armastrong Number')\n",
        "else:\n",
        "    print('Not a armastrong number')"
      ],
      "metadata": {
        "colab": {
          "base_uri": "https://localhost:8080/"
        },
        "id": "umG-1BP5Fqaf",
        "outputId": "0feb71aa-323b-47fe-e66e-9319cf49dce1"
      },
      "execution_count": 27,
      "outputs": [
        {
          "output_type": "stream",
          "name": "stdout",
          "text": [
            "three digit num: 371\n",
            "Armastrong Number\n"
          ]
        }
      ]
    },
    {
      "cell_type": "code",
      "source": [
        "# Q3 Write a program in Python to check given number is prime or not.\n",
        "# a number that is divisible only by itself and 1 (e.g. 2, 3, 5, 7, 11).\n",
        "\n",
        "a = int(input(\"Enter a number:\"))\n",
        "\n",
        "def PrimeCheck(a):  \n",
        "    if a > 1:   \n",
        "        for j in range(2, a):   \n",
        "            if (a % j) == 0:  \n",
        "                print(a, \"is not a prime number\")  \n",
        "                break   \n",
        "        else:  \n",
        "            print(a, \"is a prime number\")  \n",
        "    else:  \n",
        "        print(a, \"is not a prime number\")  \n",
        "  \n",
        "PrimeCheck(a)  "
      ],
      "metadata": {
        "colab": {
          "base_uri": "https://localhost:8080/"
        },
        "id": "aZKIx3TjjRVC",
        "outputId": "4980ddff-5d73-400a-c1cb-a00d4c46ba4d"
      },
      "execution_count": null,
      "outputs": [
        {
          "output_type": "stream",
          "name": "stdout",
          "text": [
            "Enter a number:23\n",
            "23 is a prime number\n"
          ]
        }
      ]
    },
    {
      "cell_type": "code",
      "source": [
        "#Q4 Write a program in Python to print the Fibonacci series using iterative method.\n",
        "# Fibonacci sequence, in which each number is the sum of the two preceding ones.\n",
        "\n",
        "def fib(number):\n",
        "   count = 0\n",
        "   first = 0\n",
        "   second = 1\n",
        "   temp = 0\n",
        "   while count <= number:\n",
        "      print(first)\n",
        "      temp = first + second\n",
        "      first = second\n",
        "      second = temp\n",
        "      count = count + 1\n",
        "fib(5)"
      ],
      "metadata": {
        "colab": {
          "base_uri": "https://localhost:8080/"
        },
        "id": "wBBxEHLSN4zX",
        "outputId": "9894c9cb-d3e9-4c97-a8bb-1791e8a3f44b"
      },
      "execution_count": null,
      "outputs": [
        {
          "output_type": "stream",
          "name": "stdout",
          "text": [
            "0\n",
            "1\n",
            "1\n",
            "2\n",
            "3\n",
            "5\n"
          ]
        }
      ]
    },
    {
      "cell_type": "code",
      "source": [
        "#Q5 Write a program in Python to print the fibonacci series using recursive method.\n",
        "\n",
        "def Fibonacci(number):\n",
        "    if(number == 0):\n",
        "      return 0\n",
        "    elif(number == 1):\n",
        "      return 1\n",
        "    else:\n",
        "      return (Fibonacci(number - 2)+ Fibonacci(number - 1))\n",
        "number = int(input(\"Enter the Range Number: \"))\n",
        "for n in range(0, number):\n",
        "    print(Fibonacci(n))"
      ],
      "metadata": {
        "colab": {
          "base_uri": "https://localhost:8080/"
        },
        "id": "bVC7boJpSnMi",
        "outputId": "8513c005-a772-435e-de90-3238f230146c"
      },
      "execution_count": null,
      "outputs": [
        {
          "output_type": "stream",
          "name": "stdout",
          "text": [
            "Enter the Range Number: 5\n",
            "0\n",
            "1\n",
            "1\n",
            "2\n",
            "3\n"
          ]
        }
      ]
    },
    {
      "cell_type": "code",
      "source": [
        "#Q6 Write a program in Python to check whether a number is palindrome or not using iterative method.\n",
        "\n",
        "def chk_palim(n):\n",
        "  reverse = 0\n",
        "  temp = n\n",
        "  while temp!=0:\n",
        "      reverse = reverse*10 + temp%10;        \n",
        "      temp=temp//10;\n",
        "  if reverse==n:\n",
        "      print(\"number is palindrom\")\n",
        "  else:\n",
        "      print(\"number is not palindrom\")\n",
        "\n",
        "n = int(input(\"please give a number : \"))\n",
        "chk_palim(n)"
      ],
      "metadata": {
        "colab": {
          "base_uri": "https://localhost:8080/"
        },
        "id": "MvkPdBH2TXgQ",
        "outputId": "117bcdcb-f247-48c8-d968-5f109e7ea807"
      },
      "execution_count": 30,
      "outputs": [
        {
          "output_type": "stream",
          "name": "stdout",
          "text": [
            "please give a number : 12321\n",
            "number is palindrom\n"
          ]
        }
      ]
    },
    {
      "cell_type": "code",
      "source": [
        "# Q7 Write a program in Python to check whether a number is palindrom or not using recursive method.\n",
        "\n",
        "n = int(input(\"please give a number : \"))\n",
        "\n",
        "def reverse(num):\n",
        "    if num<10:\n",
        "      return num \n",
        "    else:\n",
        "      return int(str(num%10) + str(reverse(num//10)))\n",
        "\n",
        "def isPalindrome(num):\n",
        "    if num == reverse(num):\n",
        "        return 1\n",
        "    return 0\n",
        "if isPalindrome(n) == 1:\n",
        "    print(\"Given number is a palindrome\")\n",
        "else:\n",
        "    print(\"Given number is a not palindrome\") "
      ],
      "metadata": {
        "colab": {
          "base_uri": "https://localhost:8080/"
        },
        "id": "tO5pApWcUIdz",
        "outputId": "c5a3ac7c-a0a1-46c4-8d63-1dd0a8052bad"
      },
      "execution_count": null,
      "outputs": [
        {
          "output_type": "stream",
          "name": "stdout",
          "text": [
            "please give a number : 121\n",
            "Given number is a palindrome\n"
          ]
        }
      ]
    },
    {
      "cell_type": "code",
      "source": [
        "#Q8 Write a program in Python to find greatest among three integers.\n",
        "\n",
        "def chk_great_int(max):\n",
        "  max= a\n",
        "  if max < b:\n",
        "      max = b\n",
        "  if max < c:\n",
        "      max = c\n",
        "  print(\"Greatest integer is\",max)\n",
        "\n",
        "a= int(input('first integer: '))\n",
        "b= int(input('second integer: '))\n",
        "c= int(input('third integer: '))\n",
        "chk_great_int(max)"
      ],
      "metadata": {
        "colab": {
          "base_uri": "https://localhost:8080/"
        },
        "id": "TB6tvvqNUkEO",
        "outputId": "5db9b27e-250d-413a-9b50-2b2b2f8ddb8e"
      },
      "execution_count": null,
      "outputs": [
        {
          "output_type": "stream",
          "name": "stdout",
          "text": [
            "first integer: 10\n",
            "second integer: 20\n",
            "third integer: 30\n",
            "Greatest integer is 30\n"
          ]
        }
      ]
    },
    {
      "cell_type": "code",
      "source": [
        "#Q9 Write a program in Python to check if a number is binary?\n",
        "\n",
        "def chk_bin(num):\n",
        "\n",
        "  while(num>0):\n",
        "      j=num%10\n",
        "      if j!=0 and j!=1:\n",
        "          print(\"num is not binary\")\n",
        "          break\n",
        "      num=num//10\n",
        "      if num==0:\n",
        "          print(\"num is binary\") \n",
        "\n",
        "num = int(input(\"please give a number : \"))\n",
        "chk_bin(num)"
      ],
      "metadata": {
        "colab": {
          "base_uri": "https://localhost:8080/"
        },
        "id": "yK9FUCXvZ3Yn",
        "outputId": "808bca80-5efd-4f79-f7e5-8b8ef68c3fc1"
      },
      "execution_count": 33,
      "outputs": [
        {
          "output_type": "stream",
          "name": "stdout",
          "text": [
            "please give a number : 110\n",
            "num is binary\n"
          ]
        }
      ]
    },
    {
      "cell_type": "code",
      "source": [
        "# *Q10 Write a program in Python to find sum of digits of a number using recursion?\n",
        "\n",
        "def sum_of_digit( n ):\n",
        "\tif n == 0:\n",
        "\t\treturn 0\n",
        "\treturn (n % 10 + sum_of_digit(int(n/10)))\n",
        "\n",
        "num = 12345\n",
        "result = sum_of_digit(num)\n",
        "print(\"Sum of digits in\",num,\"is\", result)"
      ],
      "metadata": {
        "colab": {
          "base_uri": "https://localhost:8080/"
        },
        "id": "HpmIGtxnc4KP",
        "outputId": "e5512a5a-c239-459b-e008-f9131cab0997"
      },
      "execution_count": null,
      "outputs": [
        {
          "output_type": "stream",
          "name": "stdout",
          "text": [
            "Sum of digits in 12345 is 15\n"
          ]
        }
      ]
    },
    {
      "cell_type": "code",
      "source": [
        "#Q11 Write a program in Python to swap two numbers without using third variable?\n",
        "\n",
        "a = int(input(\"please give first number a: \"))\n",
        "b = int(input(\"please give second number b: \"))\n",
        "a=a-b\n",
        "b=a+b\n",
        "a=b-a\n",
        "\n",
        "print(\"value of a is : \", a);\n",
        "print(\"value of b is : \", b); "
      ],
      "metadata": {
        "colab": {
          "base_uri": "https://localhost:8080/"
        },
        "id": "HtDXbcMyd6CY",
        "outputId": "554fcb91-7be7-498d-b6fc-f192c840460d"
      },
      "execution_count": 36,
      "outputs": [
        {
          "output_type": "stream",
          "name": "stdout",
          "text": [
            "please give first number a: 10\n",
            "please give second number b: 20\n",
            "value of a is :  20\n",
            "value of b is :  10\n"
          ]
        }
      ]
    },
    {
      "cell_type": "code",
      "source": [
        "#Q12 Write a program in Python to swap two numbers using third variable?\n",
        "\n",
        "a= int(input('enter your first number:'))\n",
        "b= int(input('enter your second number:'))\n",
        "\n",
        "n=a\n",
        "a=b\n",
        "b=n\n",
        "\n",
        "print('value of a:',a)\n",
        "print('value of b:',b)\n",
        "\n"
      ],
      "metadata": {
        "id": "XLVnRix8fNyg"
      },
      "execution_count": null,
      "outputs": []
    },
    {
      "cell_type": "code",
      "source": [
        "# Q13 Write a program in Python to find prime factors of a given integer.\n",
        "\n",
        "\n",
        "def primeFactors(n):\n",
        " \n",
        "    c = 2\n",
        "    while(n > 1):\n",
        " \n",
        "        if(n % c == 0):\n",
        "            print(c, end=\" \")\n",
        "            n = n / c\n",
        "        else:\n",
        "            c = c + 1\n",
        " \n",
        "n = 125\n",
        "primeFactors(n)"
      ],
      "metadata": {
        "colab": {
          "base_uri": "https://localhost:8080/"
        },
        "id": "eU5wywB4hV8a",
        "outputId": "ddfa45b4-2af8-4ae9-c31a-0d93bac8c553"
      },
      "execution_count": null,
      "outputs": [
        {
          "output_type": "stream",
          "name": "stdout",
          "text": [
            "5 5 5 "
          ]
        }
      ]
    },
    {
      "cell_type": "code",
      "source": [
        "#Q14 Write a program in Python to add two integer without using arithmetic operator?\n",
        "\n",
        "def add(a, b):\n",
        "    for i in range(1, b + 1):\n",
        "        a = a + 1\n",
        "    return a\n",
        " \n",
        "a = add(15, 55)\n",
        "print(a)"
      ],
      "metadata": {
        "colab": {
          "base_uri": "https://localhost:8080/"
        },
        "id": "BEqr69vQhV48",
        "outputId": "1e6ea430-e9be-4523-f756-63220837bd31"
      },
      "execution_count": 4,
      "outputs": [
        {
          "output_type": "stream",
          "name": "stdout",
          "text": [
            "70\n"
          ]
        }
      ]
    },
    {
      "cell_type": "code",
      "source": [
        "#Q15 Write a program in Python to find given number is perfect or not?\n",
        "# perfect number, a positive integer that is equal to the sum of its proper divisors.For example, 6 = 3 + 2 + 1, and 28 = 14 + 7 + 4 + 2 + 1.\n",
        "\n",
        "def perfect_number(n):\n",
        "    sum = 0\n",
        "    for x in range(1, n):\n",
        "        if n % x == 0:\n",
        "            sum = sum + x\n",
        "    return sum == n\n",
        "print(perfect_number(28))"
      ],
      "metadata": {
        "colab": {
          "base_uri": "https://localhost:8080/"
        },
        "id": "vZLFX2MRhV2A",
        "outputId": "0ac98f9e-1290-4e5b-afb7-51780f0ce9d4"
      },
      "execution_count": null,
      "outputs": [
        {
          "output_type": "stream",
          "name": "stdout",
          "text": [
            "True\n"
          ]
        }
      ]
    },
    {
      "cell_type": "code",
      "source": [
        "Number = int(input(\"Enter any Number:\"))\n",
        "Sum = 0\n",
        "for i in range(1, Number):\n",
        "    if(Number % i == 0):\n",
        "        Sum = Sum + i\n",
        "if (Sum == Number):\n",
        "    print(\"Perfect Number\")\n",
        "else:\n",
        "    print(\"Not a Perfect Number\")"
      ],
      "metadata": {
        "colab": {
          "base_uri": "https://localhost:8080/"
        },
        "id": "Nbiwv6EesyMO",
        "outputId": "ff50b914-b7fa-4c86-a8b6-c49ababb7bda"
      },
      "execution_count": null,
      "outputs": [
        {
          "output_type": "stream",
          "name": "stdout",
          "text": [
            "Enter any Number:6\n",
            "Perfect Number\n"
          ]
        }
      ]
    },
    {
      "cell_type": "code",
      "source": [
        "# Q16 Python Program to find the Average of numbers with explanations.\n",
        "\n",
        "numbers_str = input(\"Enter numbers separated by spaces: \")\n",
        "numbers = [float(num) for num in numbers_str.split()]\n",
        " \n",
        "total = 0;\n",
        "for x in numbers:\n",
        "    total = total + x\n",
        "print(\"Average of \", numbers, \" is \", total / len(numbers))"
      ],
      "metadata": {
        "colab": {
          "base_uri": "https://localhost:8080/"
        },
        "id": "Yx7-O_LHhVzr",
        "outputId": "9beaf057-4a8a-45d2-f0bb-18923ff58dee"
      },
      "execution_count": null,
      "outputs": [
        {
          "output_type": "stream",
          "name": "stdout",
          "text": [
            "Enter numbers separated by spaces: 5 10 15 20\n",
            "Average of  [5.0, 10.0, 15.0, 20.0]  is  12.5\n"
          ]
        }
      ]
    },
    {
      "cell_type": "code",
      "source": [
        "#Q17 Python Program to calculate factorial using iterative method.\n",
        "#factorial=the product of an integer and all the integers below it; e.g. factorial four ( 4! ) is equal to 24\n",
        "\n",
        "\n",
        "num=int(input(\"Enter the whole number to find the factorial: \"))\n",
        "factorial = 1\n",
        "if num < 0:\n",
        "   \tprint(\"Factorial can't be calculated for negative number\")\n",
        "elif num == 0:\n",
        "   print(\"Factorial of 0 is 1\")\n",
        "else:\n",
        "   for i in range(1,num + 1):\n",
        "     factorial = factorial*i\n",
        "print(\"Factorial of\",num,\"is\",factorial)"
      ],
      "metadata": {
        "colab": {
          "base_uri": "https://localhost:8080/"
        },
        "id": "9YqetqJQhVxZ",
        "outputId": "d7bfc950-534d-41d4-f0d3-254a252af5e2"
      },
      "execution_count": null,
      "outputs": [
        {
          "output_type": "stream",
          "name": "stdout",
          "text": [
            "Enter the whole number to find the factorial: 5\n",
            "Factorial of 5 is 120\n"
          ]
        }
      ]
    },
    {
      "cell_type": "code",
      "source": [
        "def cal_facto(num):\n",
        "  i=1\n",
        "  if num>=0:\n",
        "      while num >=1:\n",
        "          i= i* num\n",
        "          num=num-1\n",
        "      print('factorial of given number:',i)\n",
        "  else:\n",
        "      print('factorial is not possible')\n",
        "\n",
        "num= int(input('Enter your number:'))\n",
        "cal_facto(num)"
      ],
      "metadata": {
        "colab": {
          "base_uri": "https://localhost:8080/"
        },
        "id": "4z3PfIhVJPgh",
        "outputId": "0bc43901-e2c6-4c87-a351-a411343171a1"
      },
      "execution_count": 38,
      "outputs": [
        {
          "output_type": "stream",
          "name": "stdout",
          "text": [
            "Enter your number:10\n",
            "factorial of given number: 3628800\n"
          ]
        }
      ]
    },
    {
      "cell_type": "code",
      "source": [
        "#Q18 Python Program to calculate factorial using recursion.\n",
        "\n",
        "def factorial(n): \n",
        "      \n",
        "    if (n==1 or n==0):\n",
        "          \n",
        "        return 1\n",
        "      \n",
        "    else:\n",
        "          \n",
        "        return (n * factorial(n - 1)) \n",
        "\n",
        "num = 5; \n",
        "print(\"number : \",num)\n",
        "print(\"Factorial : \",factorial(num))\n"
      ],
      "metadata": {
        "colab": {
          "base_uri": "https://localhost:8080/"
        },
        "id": "7_OWcdjNhVse",
        "outputId": "992da8fd-dcf7-4a08-f5b4-bd1c8ca627e2"
      },
      "execution_count": null,
      "outputs": [
        {
          "output_type": "stream",
          "name": "stdout",
          "text": [
            "number :  5\n",
            "Factorial :  120\n"
          ]
        }
      ]
    },
    {
      "cell_type": "code",
      "source": [
        "#Q19 Python Program to check a given number is even or odd.\n",
        "\n",
        "def chk_even_odd(num):\n",
        "  if (num % 2) == 0:\n",
        "    print(\"{0} is Even\".format(num))\n",
        "  else:\n",
        "    print(\"{0} is Odd\".format(num))\n",
        "\n",
        "num = int(input(\"Enter a number: \"))\n",
        "chk_even_odd(num)"
      ],
      "metadata": {
        "colab": {
          "base_uri": "https://localhost:8080/"
        },
        "id": "jCiowlo9hVp_",
        "outputId": "a046b18d-7895-4a85-8334-c210738f14c7"
      },
      "execution_count": 40,
      "outputs": [
        {
          "output_type": "stream",
          "name": "stdout",
          "text": [
            "Enter a number: 12\n",
            "12 is Even\n"
          ]
        }
      ]
    },
    {
      "cell_type": "code",
      "source": [
        "#Q20 Python program to print first n Prime Number with explanation.\n",
        "#Prime Number= a number that is divisible only by itself and 1 (e.g. 2, 3, 5, 7, 11).\n",
        "\n",
        "num= int(input('enter your number:'))\n",
        "if num == 2:\n",
        "    print('prime number')\n",
        "elif num > 1:\n",
        "    for i in range(2,num):\n",
        "        if (num % i) == 0:\n",
        "            print(num,'is not prime number')\n",
        "            break\n",
        "        else:\n",
        "            print(num,'is a prime number')\n",
        "            break\n",
        "    else:\n",
        "        print(num,'is not a prime number')"
      ],
      "metadata": {
        "colab": {
          "base_uri": "https://localhost:8080/"
        },
        "id": "obHYAHlMhVkW",
        "outputId": "2c4d4bea-ae58-4d67-b902-7940e86dee91"
      },
      "execution_count": null,
      "outputs": [
        {
          "output_type": "stream",
          "name": "stdout",
          "text": [
            "enter your number:5\n",
            "5 is a prime number\n"
          ]
        }
      ]
    },
    {
      "cell_type": "code",
      "source": [
        "#  Q21). Python Program to print Prime Number in a given range \n",
        "# a number that is divisible only by itself and 1(e.g. 2, 3, 5, 7, 11).\n",
        "\n",
        "min = int(input(\"Enter the min : \"))\n",
        "max = int(input(\"Enter the max : \"))\n",
        "for n in range(min,max + 1):\n",
        "   if n > 1:\n",
        "       for i in range(2,n):\n",
        "           if (n % i) == 0:\n",
        "               break\n",
        "       else:\n",
        "           print(n)"
      ],
      "metadata": {
        "colab": {
          "base_uri": "https://localhost:8080/"
        },
        "id": "jofl-Ckp7qWd",
        "outputId": "ab4f7fcf-672f-4075-b386-e499edba7c80"
      },
      "execution_count": null,
      "outputs": [
        {
          "output_type": "stream",
          "name": "stdout",
          "text": [
            "Enter the min : 10\n",
            "Enter the max : 20\n",
            "11\n",
            "13\n",
            "17\n",
            "19\n"
          ]
        }
      ]
    },
    {
      "cell_type": "code",
      "source": [
        "# Q22). Python Program to find Smallest number among three\n",
        "\n",
        "a = int(input('Enter first number  : '))\n",
        "b = int(input('Enter second number : '))\n",
        "c = int(input('Enter third number  : '))\n",
        "\n",
        "smallest = 0\n",
        "\n",
        "if a < b and a < c :\n",
        "    smallest = a\n",
        "if b < a and b < c :\n",
        "    smallest = b\n",
        "if c < a and c < b :\n",
        "    smallest = c\n",
        "\n",
        "print(smallest, \"is the smallest of three numbers.\")"
      ],
      "metadata": {
        "colab": {
          "base_uri": "https://localhost:8080/"
        },
        "id": "po5SXgpwROiu",
        "outputId": "7674ed27-dedb-4415-a721-6c88cd74ce08"
      },
      "execution_count": null,
      "outputs": [
        {
          "output_type": "stream",
          "name": "stdout",
          "text": [
            "Enter first number  : 10\n",
            "Enter second number : 20\n",
            "Enter third number  : 30\n",
            "10 is the smallest of three numbers.\n"
          ]
        }
      ]
    },
    {
      "cell_type": "code",
      "source": [
        "# Q23). Python program to calculate the power using the POW method. \n",
        "\n",
        "a = int(input(\" Please Enter any Positive Integer : \"))\n",
        "b = int(input(\" Please Enter Exponent Value : \"))\n",
        "\n",
        "print(pow(a,b))\n"
      ],
      "metadata": {
        "colab": {
          "base_uri": "https://localhost:8080/"
        },
        "id": "8OHIQqSQR1ld",
        "outputId": "97b7014c-03a0-47e2-bfef-a107406900e5"
      },
      "execution_count": null,
      "outputs": [
        {
          "output_type": "stream",
          "name": "stdout",
          "text": [
            " Please Enter any Positive Integer : 10\n",
            " Please Enter Exponent Value : 2\n",
            "100\n"
          ]
        }
      ]
    },
    {
      "cell_type": "code",
      "source": [
        "# Q24). Python Program to calculate the power without using POW function.(using for loop)\n",
        "\n",
        "number = int(input(\"Enter Positive Integer : \"))\n",
        "exponent = int(input(\"Enter Exponent Value : \"))\n",
        "power = 1\n",
        "\n",
        "for i in range(1, exponent + 1):\n",
        "    power = power * number\n",
        "    \n",
        "print(\"Power is:\",power)"
      ],
      "metadata": {
        "colab": {
          "base_uri": "https://localhost:8080/"
        },
        "id": "CqBP3eJYUeGi",
        "outputId": "2af53ab0-c8c0-49ff-9a02-bd929fffe8a0"
      },
      "execution_count": null,
      "outputs": [
        {
          "output_type": "stream",
          "name": "stdout",
          "text": [
            " Please Enter any Positive Integer : 3\n",
            " Please Enter Exponent Value : 3\n",
            "Power is: 27\n"
          ]
        }
      ]
    },
    {
      "cell_type": "code",
      "source": [
        "# Q25). Python Program to calculate the power without using POW function.(using while loop)\n",
        "\n",
        "number = int(input(\"Enter positive Integer : \"))\n",
        "exponent = int(input(\"Enter Exponent Value : \"))\n",
        "\n",
        "power = 1\n",
        "i = 1\n",
        "\n",
        "while(i <= exponent):\n",
        "    power = power * number\n",
        "    i = i + 1\n",
        "    \n",
        "print(\"Power is:\",power)"
      ],
      "metadata": {
        "id": "TWHUr2WyXbvB",
        "colab": {
          "base_uri": "https://localhost:8080/"
        },
        "outputId": "9d69c841-86c1-437d-9837-dbcc32cd689f"
      },
      "execution_count": null,
      "outputs": [
        {
          "output_type": "stream",
          "name": "stdout",
          "text": [
            "Enter any Positive Integer : 3\n",
            "Enter Exponent Value : 3\n",
            "Power is: 27\n"
          ]
        }
      ]
    },
    {
      "cell_type": "code",
      "source": [
        "# Q26). Python Program to calculate the square of a given number.\n",
        "\n",
        "num = float(input(\"Please enter any numeric value: \"))\n",
        "\n",
        "square = num * num\n",
        "\n",
        "print(\"The square of a given number {0}  = {1}\".format(num, square))\n"
      ],
      "metadata": {
        "id": "tIwOXCj5ZwXW"
      },
      "execution_count": null,
      "outputs": []
    },
    {
      "cell_type": "code",
      "source": [
        "# Q27). Python Program to calculate the cube of a given number\n",
        "\n",
        "number = int(input('Enter number to get cube '))\n",
        "\n",
        "print(\"Cube of \",number,\"is\",number**3)"
      ],
      "metadata": {
        "colab": {
          "base_uri": "https://localhost:8080/"
        },
        "id": "N0FucdB0dIh4",
        "outputId": "d27ca1f2-bef6-4a95-f627-588d8b0904af"
      },
      "execution_count": null,
      "outputs": [
        {
          "output_type": "stream",
          "name": "stdout",
          "text": [
            "Enter number to get cube 5\n",
            "Cube of  5 is 125\n"
          ]
        }
      ]
    },
    {
      "cell_type": "code",
      "source": [
        "# Q28). Python Program to calculate the square root of a given number.\n",
        "\n",
        "number = int(input(\"enter a number: \"))\n",
        "sqrt = number ** 0.5\n",
        "print(\"square root of given number is:\", sqrt)"
      ],
      "metadata": {
        "colab": {
          "base_uri": "https://localhost:8080/"
        },
        "id": "jC_nU3kUd3hp",
        "outputId": "9f1d648c-c53c-4f8f-f6b1-588cd8e1a35a"
      },
      "execution_count": null,
      "outputs": [
        {
          "output_type": "stream",
          "name": "stdout",
          "text": [
            "enter a number: 25\n",
            "square root of given number is: 5.0\n"
          ]
        }
      ]
    },
    {
      "cell_type": "code",
      "source": [
        "# Q29). Python program to calculate LCM of given two numbers. \n",
        "\n",
        "a=int(input(\"Enter the first number:\"))\n",
        "b=int(input(\"Enter the second number:\"))\n",
        "if(a>b):\n",
        "    min1=a\n",
        "else:\n",
        "    min1=b\n",
        "while(1):\n",
        "    if(min1%a==0 and min1%b==0):\n",
        "        print(\"LCM is:\",min1)\n",
        "        break\n",
        "    min1=min1+1"
      ],
      "metadata": {
        "id": "xzJcV6Btfgj6"
      },
      "execution_count": null,
      "outputs": []
    },
    {
      "cell_type": "code",
      "source": [
        "# Q30). Python Program to find GCD or HCF of two numbers.\n",
        "\n",
        "def compute_hcf(x, y):\n",
        "\n",
        "    if x > y:\n",
        "        smaller = y\n",
        "    else:\n",
        "        smaller = x\n",
        "    for i in range(1, smaller+1):\n",
        "        if((x % i == 0) and (y % i == 0)):\n",
        "            hcf = i \n",
        "    return hcf\n",
        "\n",
        "num1 = 8\n",
        "num2 = 5\n",
        "\n",
        "print(\"The H.C.F. is\", compute_hcf(num1, num2))"
      ],
      "metadata": {
        "colab": {
          "base_uri": "https://localhost:8080/"
        },
        "id": "KbQZR_9Uh4OJ",
        "outputId": "6be4bd96-cda0-4811-aa75-4c63ffd1d93d"
      },
      "execution_count": null,
      "outputs": [
        {
          "output_type": "stream",
          "name": "stdout",
          "text": [
            "The H.C.F. is 1\n"
          ]
        }
      ]
    },
    {
      "cell_type": "code",
      "source": [
        "# Q31). Python Program to find GCD of two numbers using recursion. \n",
        "\n",
        "def GCD(x,y):\n",
        "    r=x%y\n",
        "    if(r==0):\n",
        "        return y\n",
        "    else:\n",
        "        return GCD(y,r)\n",
        "n= int(input(\"Enter the first number :\"))\n",
        "m= int(input(\"Enter the second number :\"))\n",
        "print(\"The GCD of two numbers is:\", GCD(n,m))\n",
        "\n"
      ],
      "metadata": {
        "colab": {
          "base_uri": "https://localhost:8080/"
        },
        "id": "RgpzWfNviVH_",
        "outputId": "50379bad-3b0a-4032-8196-99e7011d2edd"
      },
      "execution_count": null,
      "outputs": [
        {
          "output_type": "stream",
          "name": "stdout",
          "text": [
            "Enter the first number :10\n",
            "Enter the second number :20\n",
            "The GCD of two numbers is: 10\n"
          ]
        }
      ]
    },
    {
      "cell_type": "code",
      "source": [
        "#  Q32). Python Program to Convert Decimal Number into Binary. \n",
        "\n",
        "number = int(input(\"Enter any decimal number: \"))\n",
        "\n",
        "def decimalToBinary(num):\n",
        "    if num > 1:\n",
        "        decimalToBinary(num // 2)\n",
        "    print(num % 2, end='')\n",
        "\n",
        "decimalToBinary(number)"
      ],
      "metadata": {
        "colab": {
          "base_uri": "https://localhost:8080/"
        },
        "id": "dadN73yfcJTW",
        "outputId": "c8c29a26-209e-4521-ce5c-d2e46041fe8b"
      },
      "execution_count": null,
      "outputs": [
        {
          "output_type": "stream",
          "name": "stdout",
          "text": [
            "Enter any decimal number: 55\n",
            "110111"
          ]
        }
      ]
    },
    {
      "cell_type": "code",
      "source": [
        "def dectobin():\n",
        "  n = int(input(\"Enter number to convert: \"))\n",
        "  p = 1\n",
        "  r = 0\n",
        "\n",
        "  while n>0:\n",
        "    r = r + (n%2) * p\n",
        "    n= int(n/2)\n",
        "    p = p*10\n",
        "  print(\"binary number:\",r)\n",
        "\n",
        "dectobin()"
      ],
      "metadata": {
        "colab": {
          "base_uri": "https://localhost:8080/"
        },
        "id": "D95Q1c33lJBx",
        "outputId": "ae8b2597-4524-4714-908f-e7c385a38464"
      },
      "execution_count": null,
      "outputs": [
        {
          "output_type": "stream",
          "name": "stdout",
          "text": [
            "Enter number to convert: 32\n",
            "binary number: 100000\n"
          ]
        }
      ]
    },
    {
      "cell_type": "code",
      "source": [
        "#Q33). Python Program to convert Decimal number to Octal number. \n",
        "#A number system with its base as 8 is known as an Octal number system and uses numbers from 0 to 7\n",
        "num = int(input('Enter a decimal number: '))\n",
        "\n",
        "def DecimalOctal(num):\n",
        "    octal = 0 \n",
        "    i = 1\n",
        "\n",
        "    while (num != 0):\n",
        "        rem = num % 8  \n",
        "        octal = octal + rem * i\n",
        "        \n",
        "        i = i*10\n",
        "        num = num // 8\n",
        "     \n",
        "    print(octal)\n",
        "\n",
        "DecimalOctal(num)"
      ],
      "metadata": {
        "colab": {
          "base_uri": "https://localhost:8080/"
        },
        "id": "Xx8PxB1bE1Xu",
        "outputId": "f616cc06-8436-48e5-8b21-7bdf8ffaa7c3"
      },
      "execution_count": null,
      "outputs": [
        {
          "output_type": "stream",
          "name": "stdout",
          "text": [
            "Enter a decimal number: 15\n",
            "17\n"
          ]
        }
      ]
    },
    {
      "cell_type": "code",
      "source": [
        "# Python program to convert decimal to octal\n",
        "\n",
        "# take input\n",
        "num = int(input('Enter any decimal number: '))\n",
        "\n",
        "# display result\n",
        "print('Octal value:', oct(num))"
      ],
      "metadata": {
        "colab": {
          "base_uri": "https://localhost:8080/"
        },
        "id": "I5mv2eWS5vGi",
        "outputId": "e7c5c0b9-f028-47fa-ece1-62e886d6b70f"
      },
      "execution_count": null,
      "outputs": [
        {
          "output_type": "stream",
          "name": "stdout",
          "text": [
            "Enter any decimal number: 100\n",
            "Octal value: 0o144\n"
          ]
        }
      ]
    },
    {
      "cell_type": "code",
      "source": [
        "#  Q34). Python Program to check the given year is a leap year or not.\n",
        "\n",
        "\n",
        "def chk_leap_year(year):\n",
        "  if year % 4 == 0 and year % 100 != 0:\n",
        "      print(year, \"is a Leap Year\")\n",
        "  elif year % 100 == 0:\n",
        "      print(year, \"is not a Leap Year\")\n",
        "  elif year % 400 ==0:\n",
        "      print(year, \"is a Leap Year\")\n",
        "  else:\n",
        "      print(year, \"is not a Leap Year\")\n",
        "\n",
        "year = int(input(\"Enter Year: \"))\n",
        "chk_leap_year(year)"
      ],
      "metadata": {
        "colab": {
          "base_uri": "https://localhost:8080/"
        },
        "id": "fxVoxq1t54nz",
        "outputId": "d9595fa5-621a-4edd-f124-e1c33d1e92a3"
      },
      "execution_count": 41,
      "outputs": [
        {
          "output_type": "stream",
          "name": "stdout",
          "text": [
            "Enter Year: 2024\n",
            "2024 is a Leap Year\n"
          ]
        }
      ]
    },
    {
      "cell_type": "code",
      "source": [
        "# Q35). Python Program to convert Celsius to Fahrenheit.\n",
        "\n",
        "temp= float(input('celsius temp: '))\n",
        "fahrenheit= (temp * 1.8)+ 32\n",
        "print(fahrenheit)"
      ],
      "metadata": {
        "colab": {
          "base_uri": "https://localhost:8080/"
        },
        "id": "94owMEARSkOo",
        "outputId": "81e61bed-1e3b-4e48-d7e5-6f7f64341b17"
      },
      "execution_count": null,
      "outputs": [
        {
          "output_type": "stream",
          "name": "stdout",
          "text": [
            "celsius temp: 20.8\n",
            "69.44\n"
          ]
        }
      ]
    },
    {
      "cell_type": "code",
      "source": [
        "#Q36). Python Program to convert Fahrenheit to Celsius.\n",
        "\n",
        "temp= float(input('Fahrenheit temp: '))  \n",
        "Celsius = ((temp-32)*5/9)  \n",
        "print(Celsius)"
      ],
      "metadata": {
        "colab": {
          "base_uri": "https://localhost:8080/"
        },
        "id": "8XtsUxwtTgrw",
        "outputId": "27234af2-c282-4326-ffa9-29ef61562dbb"
      },
      "execution_count": null,
      "outputs": [
        {
          "output_type": "stream",
          "name": "stdout",
          "text": [
            "Fahrenheit temp: 54\n",
            "12.222222222222221\n"
          ]
        }
      ]
    },
    {
      "cell_type": "code",
      "source": [
        "#Q37). Python program to calculate Simple Interest with explanation.\n",
        "\n",
        "p=int(input('enter your principle:'))\n",
        "r=int(input('enter your rate of interest:'))\n",
        "t=int(input('enter your time period:'))\n",
        "\n",
        "si= (p*r*t)/100\n",
        "\n",
        "print('Your Simple Interest is:',si)"
      ],
      "metadata": {
        "id": "SswEd6uTU2qu"
      },
      "execution_count": null,
      "outputs": []
    },
    {
      "cell_type": "code",
      "source": [
        "#Q38). Python program to remove given character from String.\n",
        "\n",
        "a = input(\"Please enter a string: \")\n",
        "b= input(\"Please enter char to be removed: \")\n",
        "\n",
        "c = a.replace(b, '') \n",
        "\n",
        "print (\"String after removal of character:\",c)"
      ],
      "metadata": {
        "colab": {
          "base_uri": "https://localhost:8080/"
        },
        "id": "X4coln1pV-6h",
        "outputId": "0950a222-a871-4f6b-8d80-fc96b2f3f050"
      },
      "execution_count": null,
      "outputs": [
        {
          "output_type": "stream",
          "name": "stdout",
          "text": [
            "Please enter a string: hello python\n",
            "Please enter char to be removed: o\n",
            "String after removal of character: hell pythn\n"
          ]
        }
      ]
    },
    {
      "cell_type": "code",
      "source": [
        "#Q39 Python Program to count occurrence of a given characters in string. \n",
        "\n",
        "count = 0\n",
        "string = input(\"Please enter String: \")\n",
        "char = input(\"Please enter a Character: \") \n",
        "\n",
        "for i in string:\n",
        "    if i == char:\n",
        "        count = count + 1\n",
        "\n",
        "print(\"Total Number of occurence of\",char,\"is:\",count)\n"
      ],
      "metadata": {
        "colab": {
          "base_uri": "https://localhost:8080/"
        },
        "id": "FC5CLIloV-02",
        "outputId": "fa3477de-7bb5-46c9-f102-7995c9b83ed7"
      },
      "execution_count": null,
      "outputs": [
        {
          "output_type": "stream",
          "name": "stdout",
          "text": [
            "Please enter String: python\n",
            "Please enter a Character: o\n",
            "Total Number of occurence of o is: 1\n"
          ]
        }
      ]
    },
    {
      "cell_type": "code",
      "source": [
        "string = input(\"Please enter String : \")\n",
        "char = input(\"Please enter a Character : \")\n",
        "count = 0\n",
        "for i in range(len(string)):\n",
        "    if(string[i] == char):\n",
        "        count = count + 1\n",
        "print(\"Total Number of occurence of \", char, \"is :\" , count)"
      ],
      "metadata": {
        "colab": {
          "base_uri": "https://localhost:8080/"
        },
        "id": "LK1mxZT3V-qs",
        "outputId": "65de1ede-4c26-4a7a-b886-22eb2f1fb1d8"
      },
      "execution_count": null,
      "outputs": [
        {
          "output_type": "stream",
          "name": "stdout",
          "text": [
            "Please enter String : nikhil\n",
            "Please enter a Character : i\n",
            "Total Number of occurence of  i is : 2\n"
          ]
        }
      ]
    },
    {
      "cell_type": "code",
      "source": [
        "# Q40). Python Program to check if two Strings are Anagram. \n",
        "# a word, phrase, or name formed by rearranging the letters of another, such as spar, formed from rasp.\n",
        "\n",
        "def isanagram(a,b):\n",
        "    if len(a) != len(b):\n",
        "        print(\"Strings are not applicable for anagram\")\n",
        "    \n",
        "    first = sorted(a)\n",
        "    second = sorted(b)\n",
        "    \n",
        "    if first == second:\n",
        "        print(\"The strings are anagram\")\n",
        "    else:\n",
        "        print(\"The strings are not anagram\")\n",
        "    \n",
        "a = input(\"Enter a string: \")\n",
        "b = input(\"Enter a string: \")\n",
        "isanagram(a,b)"
      ],
      "metadata": {
        "colab": {
          "base_uri": "https://localhost:8080/"
        },
        "id": "hiKY6Z6IV-nv",
        "outputId": "0d062e79-56fa-49fb-ef04-3dff584b4921"
      },
      "execution_count": null,
      "outputs": [
        {
          "output_type": "stream",
          "name": "stdout",
          "text": [
            "Enter a string: sort\n",
            "Enter a string: rost\n",
            "The strings are anagram\n"
          ]
        }
      ]
    },
    {
      "cell_type": "code",
      "source": [
        "#Q41). Python program to check a String is palindrome or not.\n",
        "\n",
        "str = input(\"Enter a string: \")\n",
        "rev = \"\"\n",
        "for i in str:\n",
        "    rev = rev + i\n",
        " \n",
        "if (str == rev):\n",
        "    print(\"String is palindrome\")\n",
        "else:\n",
        "    print(\"String is not palindrome\")\n"
      ],
      "metadata": {
        "colab": {
          "base_uri": "https://localhost:8080/"
        },
        "id": "5hwKcayHIll5",
        "outputId": "0be84146-ff02-4f52-b006-e1ff968ee38b"
      },
      "execution_count": null,
      "outputs": [
        {
          "output_type": "stream",
          "name": "stdout",
          "text": [
            "Enter a string: asdfdsa\n",
            "String is palindrome\n"
          ]
        }
      ]
    },
    {
      "cell_type": "code",
      "source": [
        "str=input((\"Enter a string:\"))\n",
        "if(str==str[::-1]):\n",
        "      print(\"String is palindrome\")\n",
        "else:\n",
        "      print(\"String is not palindrome\")"
      ],
      "metadata": {
        "colab": {
          "base_uri": "https://localhost:8080/"
        },
        "id": "dW3pzTIRM5sk",
        "outputId": "1b203104-6b64-4917-b24c-9d9e7d6bd089"
      },
      "execution_count": null,
      "outputs": [
        {
          "output_type": "stream",
          "name": "stdout",
          "text": [
            "Enter a string:asdfdsa\n",
            "String is palindrome\n"
          ]
        }
      ]
    },
    {
      "cell_type": "code",
      "source": [
        "#Q42). Python program to check given character is vowel or consonant.\n",
        "\n",
        "ch = input(\"Enter a character: \")\n",
        "\n",
        "if (ch=='A' or ch=='a' or ch=='E' or ch =='e' or ch=='I'\n",
        "    or ch=='i' or ch=='O' or ch=='o' or ch=='U' or ch=='u'):\n",
        "      print(ch, \"is a Vowel\")\n",
        "else:\n",
        "      print(ch, \"is a Consonant\")"
      ],
      "metadata": {
        "colab": {
          "base_uri": "https://localhost:8080/"
        },
        "id": "5utqZIhoSRE1",
        "outputId": "26242fa2-bf24-4fd8-8439-d19efda4e55f"
      },
      "execution_count": null,
      "outputs": [
        {
          "output_type": "stream",
          "name": "stdout",
          "text": [
            "Enter a character: a\n",
            "a is a Vowel\n"
          ]
        }
      ]
    },
    {
      "cell_type": "code",
      "source": [
        "# Q43). Python program to check given character is digit or not.\n",
        "\n",
        "str = input(\"Enter Character : \")\n",
        "print(str.isdigit())"
      ],
      "metadata": {
        "colab": {
          "base_uri": "https://localhost:8080/"
        },
        "id": "1qXaU4PET4mt",
        "outputId": "4b650d6b-c877-4454-c70b-fc043dbf655c"
      },
      "execution_count": null,
      "outputs": [
        {
          "output_type": "stream",
          "name": "stdout",
          "text": [
            "Enter Character : 5\n",
            "True\n"
          ]
        }
      ]
    },
    {
      "cell_type": "code",
      "source": [
        "#Q44). Python program to check given character is digit or not using isdigit() method.\n",
        "\n",
        "ch = input(\"Enter Character : \")\n",
        "\n",
        "if ch >= '0' and ch <= '9':\n",
        "    print(ch,\"is a digit\")\n",
        "else:\n",
        "    print(ch,\"is not a digit\")"
      ],
      "metadata": {
        "colab": {
          "base_uri": "https://localhost:8080/"
        },
        "id": "rDMXXK5gUHI0",
        "outputId": "fa84e724-e32e-44f4-93ec-1577b9f758c8"
      },
      "execution_count": null,
      "outputs": [
        {
          "output_type": "stream",
          "name": "stdout",
          "text": [
            "Enter Character : 2\n",
            "2 is a digit\n"
          ]
        }
      ]
    },
    {
      "cell_type": "code",
      "source": [
        "# Q45). Python program to replace the string space with a given character. \n",
        "\n",
        "string = input(\"Enter a String : \")\n",
        "result = ''\n",
        "ch = input(\"Enter a Character : \")\n",
        "for i in string:  \n",
        "    if i == ' ':  \n",
        "      i = ch   \n",
        "    result = result + i   \n",
        "print(result)\n"
      ],
      "metadata": {
        "colab": {
          "base_uri": "https://localhost:8080/"
        },
        "id": "iUl4qmCfZgQp",
        "outputId": "dca8be18-0881-41db-e51f-cfa1125e2ecc"
      },
      "execution_count": null,
      "outputs": [
        {
          "output_type": "stream",
          "name": "stdout",
          "text": [
            "Enter a String : bn bn bn \n",
            "Enter a Character : *\n",
            "bn*bn*bn*\n"
          ]
        }
      ]
    },
    {
      "cell_type": "code",
      "source": [
        "# Q46). Python program to replace the string space with a given character using replace() method.\n",
        "\n",
        "string = \"Have a nice day!\"\n",
        "ch = '_' \n",
        "    \n",
        "string = string.replace(' ', ch)\n",
        "     \n",
        "print(string) \n"
      ],
      "metadata": {
        "colab": {
          "base_uri": "https://localhost:8080/"
        },
        "id": "rW6zs83zZyKW",
        "outputId": "be96a735-16a9-4432-bb1a-88bdcd19a1fc"
      },
      "execution_count": null,
      "outputs": [
        {
          "output_type": "stream",
          "name": "stdout",
          "text": [
            "Have_a_nice_day!\n"
          ]
        }
      ]
    },
    {
      "cell_type": "code",
      "source": [
        "# Q47). Python program to convert lowercase char to uppercase of string. \n",
        "\n",
        "string = input('Enter any string: ')\n",
        "\n",
        "print('String in uppercase:', string.upper())"
      ],
      "metadata": {
        "colab": {
          "base_uri": "https://localhost:8080/"
        },
        "id": "S8LE6IK6Zzcg",
        "outputId": "bea8150e-67bf-4d69-9cce-867ea92aa618"
      },
      "execution_count": null,
      "outputs": [
        {
          "output_type": "stream",
          "name": "stdout",
          "text": [
            "Enter any string: bcdjdsjkdaksdlkasc\n",
            "String in uppercase: BCDJDSJKDAKSDLKASC\n"
          ]
        }
      ]
    },
    {
      "cell_type": "code",
      "source": [
        "str1 = input(\"Enter a sentence: \")\n",
        "str2 = \"\"\n",
        "\n",
        "for i in str1:\n",
        "    str2 = str2 + i.upper()\n",
        "  \n",
        "print(str2)"
      ],
      "metadata": {
        "colab": {
          "base_uri": "https://localhost:8080/"
        },
        "id": "6d9s-cPcJ0uV",
        "outputId": "4b4d4057-92c9-4554-c701-338c3a7e10cd"
      },
      "execution_count": null,
      "outputs": [
        {
          "output_type": "stream",
          "name": "stdout",
          "text": [
            "Enter a sentence: jbjh gcdfgfvk\n",
            "JBJH GCDFGFVK\n"
          ]
        }
      ]
    },
    {
      "cell_type": "code",
      "source": [
        "# Q48). Python program to convert lowercase vowel to uppercase in string.\n",
        "\n",
        "str1 = input(\"Enter a sentence: \")\n",
        "str2 = \"\"\n",
        "vowels = ['a','e','i','o','u']\n",
        "\n",
        "for i in str1:\n",
        "    if i in vowels:\n",
        "        str2 = str2 + i.upper()\n",
        "    else :\n",
        "        str2 = str2 + i\n",
        "\n",
        "print(str2)"
      ],
      "metadata": {
        "colab": {
          "base_uri": "https://localhost:8080/"
        },
        "id": "fDZEF7c6ZzxG",
        "outputId": "87e2d6b9-3fd3-4901-efb7-7320af5ddae0"
      },
      "execution_count": null,
      "outputs": [
        {
          "output_type": "stream",
          "name": "stdout",
          "text": [
            "Enter a sentence: trishu\n",
            "trIshU\n"
          ]
        }
      ]
    },
    {
      "cell_type": "code",
      "source": [
        "# Q49) Python program to delete vowels in a given string.\n",
        "\n",
        "string = \"Greatings\"\n",
        "\n",
        "vowels = ['a', 'e', 'i', 'o', 'u', 'A', 'E', 'I', 'O', 'U']\n",
        "result = \"\"\n",
        "\n",
        "for char in string:\n",
        "    if char not in vowels:\n",
        "        result = result + char\n",
        "\n",
        "print(result)"
      ],
      "metadata": {
        "colab": {
          "base_uri": "https://localhost:8080/"
        },
        "id": "N8jFkF1BZ0D3",
        "outputId": "70246b91-9388-49fa-ec01-c849099790f1"
      },
      "execution_count": null,
      "outputs": [
        {
          "output_type": "stream",
          "name": "stdout",
          "text": [
            "Grtngs\n"
          ]
        }
      ]
    },
    {
      "cell_type": "code",
      "source": [
        "# Q50). Python program to count Occurrence Of Vowels & Consonants in a String.\n",
        "\n",
        "str=input(\"Enter a string: \")\n",
        "vowels=0\n",
        "consonants=0\n",
        "for i in str:\n",
        "    if(i == 'a'or i == 'e'or i == 'i'or i == 'o'or i == 'u' or\n",
        "       i == 'A'or i == 'E'or i == 'I'or i == 'O'or i == 'U' ):\n",
        "          vowels=vowels+1\n",
        "    else:\n",
        "        consonants=consonants+1\n",
        "\n",
        "print(\"Count of vowels is:\",vowels)\n",
        "print(\"Count of consonant is:\",consonants)"
      ],
      "metadata": {
        "colab": {
          "base_uri": "https://localhost:8080/"
        },
        "id": "Gx5vXQpRZ0WW",
        "outputId": "ed033ab9-9400-49b6-8ff3-c0a73b70140b"
      },
      "execution_count": null,
      "outputs": [
        {
          "output_type": "stream",
          "name": "stdout",
          "text": [
            "Enter a string: nice\n",
            "Count of vowels is: 2\n",
            "Count of consonant is: 2\n"
          ]
        }
      ]
    },
    {
      "cell_type": "code",
      "execution_count": null,
      "metadata": {
        "id": "TazdG5hO2g5c",
        "colab": {
          "base_uri": "https://localhost:8080/"
        },
        "outputId": "a1029210-7061-45b0-a04e-6f101e9aa608"
      },
      "outputs": [
        {
          "output_type": "stream",
          "name": "stdout",
          "text": [
            "frequent character:  v\n"
          ]
        }
      ],
      "source": [
        "#Q51). Python program to print the highest frequency character in a String.\n",
        "\n",
        "str= \"cddsvvvvjh\"\n",
        "freq={}\n",
        "\n",
        "for i in str:\n",
        "    if i in freq:\n",
        "        freq[i] = freq[i] + 1\n",
        "    else:\n",
        "        freq[i] = 1\n",
        "result= max(freq, key = freq.get)\n",
        "print(\"frequent character: \",result)\n"
      ]
    },
    {
      "cell_type": "code",
      "source": [
        "#Q52). Python program to Replace First Occurrence Of Vowel With ‘-‘ in String.\n",
        "\n",
        "str = input()\n",
        "\n",
        "char = input()\n",
        "\n",
        "newstr = \"\"\n",
        "vowels = ['a', 'e', 'i', 'o', 'u', 'A', 'E', 'I', 'O', 'U']\n",
        "\n",
        "for i in range(len(str)):\n",
        "    if str[i] in vowels:\n",
        "        newstr = newstr + char\n",
        "    else:\n",
        "        newstr = newstr + str[i]\n",
        "\n",
        "print(\"New String =\", newstr)"
      ],
      "metadata": {
        "id": "gzSunv5C21cX",
        "colab": {
          "base_uri": "https://localhost:8080/"
        },
        "outputId": "056a9bb2-4e18-455e-a18b-f279a21a34e2"
      },
      "execution_count": null,
      "outputs": [
        {
          "output_type": "stream",
          "name": "stdout",
          "text": [
            "nikhil\n",
            "_\n",
            "New String = n_kh_l\n"
          ]
        }
      ]
    },
    {
      "cell_type": "code",
      "source": [
        "#Q53). Python program to count alphabets, digits and special characters.\n",
        "\n",
        "string = input(\"Enter a string : \")\n",
        "alphabets = 0\n",
        "digits = 0\n",
        "special = 0\n",
        "\n",
        "for i in range(len(string)):\n",
        "    if(string[i].isalpha()):\n",
        "        alphabets = alphabets + 1\n",
        "    elif(string[i].isdigit()):\n",
        "        digits = digits + 1\n",
        "    else:\n",
        "        special = special + 1\n",
        "        \n",
        "print(\"Alphabets in string:\", alphabets)\n",
        "print(\"Number of digits in string :\", digits)\n",
        "print(\"Number of special characters in string :\", special)"
      ],
      "metadata": {
        "id": "2650DAsL21Zi",
        "colab": {
          "base_uri": "https://localhost:8080/"
        },
        "outputId": "bcdfd639-f947-4645-c84e-5b95d9b9322a"
      },
      "execution_count": 1,
      "outputs": [
        {
          "output_type": "stream",
          "name": "stdout",
          "text": [
            "Enter a string : AdgCV12462#g@U&!@\n",
            "Alphabets in string: 7\n",
            "Number of digits in string : 5\n",
            "Number of special characters in string : 5\n"
          ]
        }
      ]
    },
    {
      "cell_type": "code",
      "source": [
        "#Q54). Python program to separate characters in a given string.\n",
        "\n",
        "def getCharList(str):\n",
        "\treturn [char for char in str]\n",
        "\t\n",
        "str = input('Enter string: ')\n",
        "print(getCharList(str))"
      ],
      "metadata": {
        "id": "9Q152Wcp21Xf",
        "colab": {
          "base_uri": "https://localhost:8080/"
        },
        "outputId": "e4c014c8-8b7f-417b-8c8c-9d6cd4371f28"
      },
      "execution_count": null,
      "outputs": [
        {
          "output_type": "stream",
          "name": "stdout",
          "text": [
            "Enter string: hello\n",
            "['h', 'e', 'l', 'l', 'o']\n"
          ]
        }
      ]
    },
    {
      "cell_type": "code",
      "source": [
        "def getChar(str):\n",
        "  for i in range(0, len(str)):  \n",
        "    print(str[i], end=\"  \")\n",
        "str = input('Enter string: ')\n",
        "getChar(str)"
      ],
      "metadata": {
        "colab": {
          "base_uri": "https://localhost:8080/"
        },
        "id": "s8-Yys7vJwKj",
        "outputId": "c7c9450d-9bdf-4252-dab4-9682978322fa"
      },
      "execution_count": null,
      "outputs": [
        {
          "output_type": "stream",
          "name": "stdout",
          "text": [
            "Enter string: hello\n",
            "h  e  l  l  o  "
          ]
        }
      ]
    },
    {
      "cell_type": "code",
      "source": [
        "#Q55). Python program to remove blank space from string.\n",
        "\n",
        "def remove(str):\n",
        "    return str.replace(\" \", \"\")\n",
        "\n",
        "str = input('Enter string: ')\n",
        "print(remove(str))"
      ],
      "metadata": {
        "id": "0-cxJiu021Ve",
        "colab": {
          "base_uri": "https://localhost:8080/"
        },
        "outputId": "1f27aeaf-e5bb-40ad-df41-8cb8f8ec5631"
      },
      "execution_count": null,
      "outputs": [
        {
          "output_type": "stream",
          "name": "stdout",
          "text": [
            "Enter string: n  n n n n \n",
            "nnnnn\n"
          ]
        }
      ]
    },
    {
      "cell_type": "code",
      "source": [
        "#Q56). Python program to concatenate two strings using join() method.\n",
        "\n",
        "\n",
        "def concstr(str1,str2):\n",
        "\treturn (\" \".join([str1, str2]))\n",
        "\t\n",
        "str1 = input('Enter string: ')\n",
        "str2 = input('Enter string: ')\n",
        "print(concstr(str1,str2))"
      ],
      "metadata": {
        "id": "vbszgBqJ21St",
        "colab": {
          "base_uri": "https://localhost:8080/"
        },
        "outputId": "2dde57f2-5361-4d45-b96f-71b84eeeb274"
      },
      "execution_count": null,
      "outputs": [
        {
          "output_type": "stream",
          "name": "stdout",
          "text": [
            "Enter string: Hi\n",
            "Enter string: Nik\n",
            "Hi Nik\n"
          ]
        }
      ]
    },
    {
      "cell_type": "code",
      "source": [
        "#Q57). Python program to concatenate two strings without using join() method.\n",
        "\n",
        "def concstr(str1,str2):\n",
        "\treturn (\"{} {}\".format(str1,str2))\n",
        "\t\n",
        "str1 = input('Enter string: ')\n",
        "str2 = input('Enter string: ')\n",
        "print(concstr(str1,str2))\n"
      ],
      "metadata": {
        "id": "vvF9wqte21Qv",
        "colab": {
          "base_uri": "https://localhost:8080/"
        },
        "outputId": "04d0491c-3d1e-49c8-a68f-6870cf963815"
      },
      "execution_count": null,
      "outputs": [
        {
          "output_type": "stream",
          "name": "stdout",
          "text": [
            "Enter string: hi\n",
            "Enter string: nik\n",
            "hi nik\n"
          ]
        }
      ]
    },
    {
      "cell_type": "code",
      "source": [
        "#Q58). Python program to remove repeated character from string.\n",
        "\n",
        "def remrepch(str):\n",
        "  result = []\n",
        "  for ch in str:\n",
        "    if ch not in result:\n",
        "      result.append(ch)\n",
        "\n",
        "  return ''.join(result)\n",
        "str = input('Enter string: ')\n",
        "print(remrepch(str))"
      ],
      "metadata": {
        "id": "FW7Tk0rd21Oo",
        "colab": {
          "base_uri": "https://localhost:8080/"
        },
        "outputId": "752dab44-41c2-4603-d647-14e2ab9dc694"
      },
      "execution_count": null,
      "outputs": [
        {
          "output_type": "stream",
          "name": "stdout",
          "text": [
            "Enter string: sdscsc\n",
            "sdc\n"
          ]
        }
      ]
    },
    {
      "cell_type": "code",
      "source": [
        "#Q59). Python program to calculate sum of integers in string.\n",
        "\n",
        "def sumintstr(str):\n",
        "    sum_int = 0\n",
        "    for i in str:\n",
        "        if i.isdigit() == True:\n",
        "            d = int(i)\n",
        "            sum_int = sum_int + d\n",
        "\n",
        "    return sum_int\n",
        "str = input('Enter string: ')     \n",
        "print(sumintstr(str))\n"
      ],
      "metadata": {
        "id": "4S2vKf2T21L1",
        "colab": {
          "base_uri": "https://localhost:8080/"
        },
        "outputId": "bbfab043-9808-4a5b-fa43-2ab07bb49ea0"
      },
      "execution_count": null,
      "outputs": [
        {
          "output_type": "stream",
          "name": "stdout",
          "text": [
            "Enter string: fghj234hfbeuurr55\n",
            "19\n"
          ]
        }
      ]
    },
    {
      "cell_type": "code",
      "source": [
        "#Q60). Python program to print all non repeating character in string.\n",
        "\n",
        "String = input()\n",
        "for i in String:\n",
        "    count = 0\n",
        "    for j in String:\n",
        "        if i == j:\n",
        "            count= count+1\n",
        "       \n",
        "        if count > 1:\n",
        "            break\n",
        "    if count == 1:\n",
        "        print(i,end = \"\")"
      ],
      "metadata": {
        "colab": {
          "base_uri": "https://localhost:8080/"
        },
        "id": "5Q4Alr2PaUqV",
        "outputId": "e38802d4-50fc-4745-ae9a-4c35f50ed41a"
      },
      "execution_count": null,
      "outputs": [
        {
          "output_type": "stream",
          "name": "stdout",
          "text": [
            "aaxsdfccx\n",
            "sdf"
          ]
        }
      ]
    },
    {
      "cell_type": "code",
      "source": [
        "#Q61). Python program to copy one string to another string.\n",
        "\n",
        "str1 = input()\n",
        "str2 = ''\n",
        "\n",
        "for i in str1:\n",
        "    str2 = str2 + i\n",
        "    \n",
        "print(\"Copied string:\",str2)"
      ],
      "metadata": {
        "id": "gfQCTvSb21Gg",
        "colab": {
          "base_uri": "https://localhost:8080/"
        },
        "outputId": "d153c1a3-cdc8-414d-9d0f-8475b32f60ff"
      },
      "execution_count": null,
      "outputs": [
        {
          "output_type": "stream",
          "name": "stdout",
          "text": [
            "hi\n",
            "Copied string: hi\n"
          ]
        }
      ]
    },
    {
      "cell_type": "code",
      "source": [
        "#Q62). Python Program to sort characters of string in ascending order.\n",
        "\n",
        "str = input()\n",
        "strList=list(str) \n",
        "sortedstr=''.join(sorted(strList)) \n",
        "print(\"str in asc:\",sortedstr)"
      ],
      "metadata": {
        "id": "r-5mn8EQ21D6",
        "colab": {
          "base_uri": "https://localhost:8080/"
        },
        "outputId": "a59ec42c-49db-4369-d2f4-9a3d54f9b596"
      },
      "execution_count": null,
      "outputs": [
        {
          "output_type": "stream",
          "name": "stdout",
          "text": [
            "byasih\n",
            "str in asc: abhisy\n"
          ]
        }
      ]
    },
    {
      "cell_type": "code",
      "source": [
        "#Q63). Python Program to sort character of string in descending order.\n",
        "\n",
        "str = input()\n",
        "strList=list(str) \n",
        "sortedstr=''.join(sorted(strList, reverse =True)) \n",
        "print(\"str in desc:\",sortedstr)"
      ],
      "metadata": {
        "id": "0UB1WnWz21Bx",
        "colab": {
          "base_uri": "https://localhost:8080/"
        },
        "outputId": "9636e3a6-f4b8-423d-9b1d-8dac0c5b2945"
      },
      "execution_count": null,
      "outputs": [
        {
          "output_type": "stream",
          "name": "stdout",
          "text": [
            "njasucb\n",
            "str in desc: usnjcba\n"
          ]
        }
      ]
    },
    {
      "cell_type": "code",
      "source": [
        "#Q64). Write a program in Python for, In array 1-100 numbers are stored, one number is missing how do you find it.\n",
        "\n",
        "def chk_miss_num(m):\n",
        "    n = len(m)\n",
        "    total = (n + 1)*(n + 2)/2\n",
        "    sum_of_m = sum(m)\n",
        "    return total - sum_of_m\n",
        " \n",
        "m = [1,2,3,5,6,7,8,9]\n",
        "print(chk_miss_num(m))"
      ],
      "metadata": {
        "colab": {
          "base_uri": "https://localhost:8080/"
        },
        "id": "jpTm2-RRpMjn",
        "outputId": "4ae266de-26c9-4459-bd64-315558b4616c"
      },
      "execution_count": null,
      "outputs": [
        {
          "output_type": "stream",
          "name": "stdout",
          "text": [
            "4.0\n"
          ]
        }
      ]
    },
    {
      "cell_type": "code",
      "source": [
        "#Q65). Write a program in Python for, In a array 1-100 multiple numbers are duplicates, how do you find it.\n",
        "\n",
        "arr = [1, 2, 3, 4, 2, 7, 8, 8, 3] \n",
        "\n",
        "for i in range(0, len(arr)):  \n",
        "    for j in range(i+1, len(arr)):  \n",
        "        if(arr[i] == arr[j]):  \n",
        "            print(arr[j], end=\" \")"
      ],
      "metadata": {
        "id": "zsra2xpD208c",
        "colab": {
          "base_uri": "https://localhost:8080/"
        },
        "outputId": "e65ce4cc-e1cd-4648-ebfc-8c9e8fb8f602"
      },
      "execution_count": null,
      "outputs": [
        {
          "output_type": "stream",
          "name": "stdout",
          "text": [
            "2 3 8 "
          ]
        }
      ]
    },
    {
      "cell_type": "code",
      "source": [
        "#Q66). Write a program in Python for, How to find all pairs in array of integers whose sum is equal to given number.\n",
        "\n",
        "def getPairsCount(arr, n, sum):\n",
        "    count = 0\n",
        "    for i in range(0, n):\n",
        "        for j in range(i + 1, n):\n",
        "            if arr[i] + arr[j] == sum:\n",
        "                count = count + 1\n",
        " \n",
        "    return count\n",
        "\n",
        "arr = [1, 5, 7, -1, 5]\n",
        "n = len(arr)\n",
        "sum = 6\n",
        "print(\"Count of pairs is\",getPairsCount(arr, n, sum))"
      ],
      "metadata": {
        "id": "Z1htcoyo205-",
        "colab": {
          "base_uri": "https://localhost:8080/"
        },
        "outputId": "1001ba96-c1f0-4356-ae73-a71a694c23ca"
      },
      "execution_count": null,
      "outputs": [
        {
          "output_type": "stream",
          "name": "stdout",
          "text": [
            "Count of pairs is 3\n"
          ]
        }
      ]
    },
    {
      "cell_type": "code",
      "source": [
        "#Q67). Write a program in Python for, How to compare two array is equal in size or not.\n",
        "\n",
        "def chk_arr_eql_size(arr1,arr2):\n",
        "    if len(arr1) == len(arr2):\n",
        "        print(\"array is equal in size\")\n",
        "    else:\n",
        "        print(\"array is not equal in size\")\n",
        "   \n",
        "arr1=[1,2,3,4,5]\n",
        "arr2=[1,3,4,5,7]\n",
        "print(chk_arr_eql_size(arr1,arr2))"
      ],
      "metadata": {
        "id": "UfJR0s4720ws",
        "colab": {
          "base_uri": "https://localhost:8080/"
        },
        "outputId": "a66ef82c-3451-47d6-e7d7-e511ef1acfdf"
      },
      "execution_count": null,
      "outputs": [
        {
          "output_type": "stream",
          "name": "stdout",
          "text": [
            "array is equal in size\n",
            "None\n"
          ]
        }
      ]
    },
    {
      "cell_type": "code",
      "source": [
        "#Q68). Write a program in Python to find largest and smallest number in array.\n",
        "\n",
        "arr = [10, 89, 9, 56, 4, 80, 8]\n",
        "mini = arr[0]\n",
        "maxi = arr[0]\n",
        "\n",
        "for i in range(len(arr)):\n",
        "  if arr[i] < mini: \n",
        "    mini = arr[i] \n",
        "  \n",
        "  if arr[i] > maxi: \n",
        "    maxi = arr[i]\n",
        "\n",
        "print ('Smallest Number is:',mini)\n",
        "print ('Largest Number is:',maxi)"
      ],
      "metadata": {
        "id": "lyXLWDdj3YH2",
        "colab": {
          "base_uri": "https://localhost:8080/"
        },
        "outputId": "3e840dc9-6476-45d4-9c1a-ce9eddc37405"
      },
      "execution_count": null,
      "outputs": [
        {
          "output_type": "stream",
          "name": "stdout",
          "text": [
            "Smallest Number is: 4\n",
            "Largest Number is: 89\n"
          ]
        }
      ]
    },
    {
      "cell_type": "code",
      "source": [
        "#Q69). Write a program in Python to find second highest number in an integer array.\n",
        "\n",
        "def calc_sec_largest(arr):  \n",
        "    second_largest = arr[0]  \n",
        "    largest_val = arr[0]  \n",
        "    for i in range(len(arr)):  \n",
        "        if arr[i] > largest_val:  \n",
        "            largest_val = arr[i]  \n",
        "  \n",
        "    for i in range(len(arr)):  \n",
        "        if arr[i] > second_largest and arr[i] != largest_val:  \n",
        "            second_largest = arr[i]  \n",
        "  \n",
        "    return second_largest  \n",
        "print(calc_sec_largest([20, 30, 40, 25, 10]))"
      ],
      "metadata": {
        "id": "nlmRn4Y73YCt",
        "colab": {
          "base_uri": "https://localhost:8080/"
        },
        "outputId": "cab8eb88-ba38-4407-c197-c261eb1b50e2"
      },
      "execution_count": null,
      "outputs": [
        {
          "output_type": "stream",
          "name": "stdout",
          "text": [
            "30\n"
          ]
        }
      ]
    },
    {
      "cell_type": "code",
      "source": [
        "def second_largest(list):\n",
        "    list.sort()\n",
        "    return list[-2]\n",
        "\n",
        "#input of list\n",
        "li=[]\n",
        "n=int(input(\"Enter size of list \"))\n",
        "for i in range(0,n):\n",
        "    e=int(input(\"Enter element of list \"))\n",
        "    li.append(e)\n",
        "\n",
        "#smallest\n",
        "print(\"second largest in \",li,\"is\")\n",
        "print(second_largest(li)) "
      ],
      "metadata": {
        "id": "v_pEClSk-H3I"
      },
      "execution_count": null,
      "outputs": []
    },
    {
      "cell_type": "code",
      "source": [
        "#Q70). Write a program in Python to find top two maximum number in array?\n",
        "\n",
        "array = [12,41,66,45,75,36,41]\n",
        "result = []\n",
        "num = int(input('Enter N: '))\n",
        "\n",
        "for x in range(0, num):\n",
        "    largeNum = 0\n",
        "    for y in range(len(array)):\n",
        "        if array[y] > largeNum:\n",
        "            largeNum = array[y]\n",
        "    array.remove(largeNum)\n",
        "    result.append(largeNum)\n",
        "\n",
        "print(result)"
      ],
      "metadata": {
        "id": "dLa-e1kv3YAI"
      },
      "execution_count": null,
      "outputs": []
    },
    {
      "cell_type": "code",
      "source": [
        "# Q71). Write a program in Python to remove duplicate elements from array.\n",
        "\n",
        "def remove_dup(arr):\n",
        "    final_list = []\n",
        "    for num in arr:\n",
        "        if num not in final_list:\n",
        "            final_list.append(num)\n",
        "    return final_list\n",
        "     \n",
        "arr = [5,4,6,8,4,8,3]\n",
        "print(remove_dup(arr))"
      ],
      "metadata": {
        "id": "iQAdhyMG3X4j",
        "colab": {
          "base_uri": "https://localhost:8080/"
        },
        "outputId": "be01c129-8a63-4da9-e1d2-b2c60445c21f"
      },
      "execution_count": null,
      "outputs": [
        {
          "output_type": "stream",
          "name": "stdout",
          "text": [
            "[5, 4, 6, 8, 3]\n"
          ]
        }
      ]
    },
    {
      "cell_type": "code",
      "source": [
        "# •\tQ73). Python program to print array in reverse Order.\n",
        "\n",
        "def reverse(arr):\n",
        "    new_arr = arr[::-1]\n",
        "    return new_arr\n",
        " \n",
        "arr = [7,8,9,10,12,45]\n",
        "print(reverse(arr))\n",
        "\n",
        "  "
      ],
      "metadata": {
        "colab": {
          "base_uri": "https://localhost:8080/"
        },
        "id": "BvWfv9fRB4_y",
        "outputId": "52ccfadd-e8af-4b21-91b0-c4960576a96b"
      },
      "execution_count": null,
      "outputs": [
        {
          "output_type": "stream",
          "name": "stdout",
          "text": [
            "[45, 12, 10, 9, 8, 7]\n"
          ]
        }
      ]
    },
    {
      "cell_type": "code",
      "source": [
        "# •\tQ74). Python program to reverse an Array in two ways.\n",
        "\n",
        "arr = [7,8,9,10,12,45]\n",
        "\n",
        "arr1 = []  \n",
        " \n",
        "for i in arr:\n",
        "  \n",
        "    arr1.insert(0, i)\n",
        "\n",
        "print(arr1)\n"
      ],
      "metadata": {
        "colab": {
          "base_uri": "https://localhost:8080/"
        },
        "id": "gcsYqhhmB49b",
        "outputId": "7db5f40b-4d32-42ce-92a1-c3595ad4eb86"
      },
      "execution_count": null,
      "outputs": [
        {
          "output_type": "stream",
          "name": "stdout",
          "text": [
            "[45, 12, 10, 9, 8, 7]\n"
          ]
        }
      ]
    },
    {
      "cell_type": "code",
      "source": [
        "# •\tQ75). Python Program to calculate length of an array.\n",
        "\n",
        "arr = [7,8,9,10,12,45]\n",
        "counter = 0\n",
        "for i in arr:\n",
        "     \n",
        "    counter = counter + 1\n",
        " \n",
        "print (\"Length of array is :\",counter)\n"
      ],
      "metadata": {
        "colab": {
          "base_uri": "https://localhost:8080/"
        },
        "id": "2NaO6OZDB46Z",
        "outputId": "e9fd2e7f-6303-43d6-aab8-4cbd5297b0d6"
      },
      "execution_count": null,
      "outputs": [
        {
          "output_type": "stream",
          "name": "stdout",
          "text": [
            "Length of array is : 6\n"
          ]
        }
      ]
    },
    {
      "cell_type": "code",
      "source": [
        "# •\tQ76). Python program to insert an element at end of an Array.\n",
        "\n",
        "\n",
        "arr = [1,2,3,4,5]\n",
        "num=int(input(\"Enter a number to insert in array at end:\"))\n",
        "\n",
        "arr.append(num)\n",
        "print(\"Array after inserting\",num,\"at end\",arr)"
      ],
      "metadata": {
        "colab": {
          "base_uri": "https://localhost:8080/"
        },
        "id": "Cw0nyrwKB43x",
        "outputId": "e112b2ab-4e3e-4a03-8e48-6028d1510eaf"
      },
      "execution_count": null,
      "outputs": [
        {
          "output_type": "stream",
          "name": "stdout",
          "text": [
            "Enter a number to insert in array at end :9\n",
            "Array after inserting 9 at end [1, 2, 3, 4, 5, 9]\n"
          ]
        }
      ]
    },
    {
      "cell_type": "code",
      "source": [
        "# •\t77). Python program to insert element at a given location in Array.\n",
        "\n",
        "arr = [1, 2, 3, 4, 5]\n",
        "num=int(input(\"Enter a number to insert: \"))\n",
        "loc=int(input(\"Enter a index to insert: \"))\n",
        "if loc >= len(arr):\n",
        "    print(\"please enter index smaller than\",len(arr))\n",
        "else:\n",
        "    arr.insert(loc, num)  \n",
        "print(\"Array after inserting\",num,\"=\",arr)"
      ],
      "metadata": {
        "colab": {
          "base_uri": "https://localhost:8080/"
        },
        "id": "KsxgWXv_B41b",
        "outputId": "671e581c-8140-4f7b-dc57-f2e92eabfcc1"
      },
      "execution_count": null,
      "outputs": [
        {
          "output_type": "stream",
          "name": "stdout",
          "text": [
            "Enter a number to insert: 8\n",
            "Enter a index to insert: 3\n",
            "Array after inserting 8 = [1, 2, 3, 8, 4, 5]\n"
          ]
        }
      ]
    },
    {
      "cell_type": "code",
      "source": [
        "# •\t78). Python Program to delete element at end of Array.\n",
        "\n",
        "\n",
        "list1 = [1,2,3,4,5]\n",
        "\n",
        "list2 = list1[ : -1]\n",
        "\n",
        "print(\"list_1:\",list1)\n",
        "print(\"list_2:\",list2)"
      ],
      "metadata": {
        "colab": {
          "base_uri": "https://localhost:8080/"
        },
        "id": "c3CFeAY3B4zI",
        "outputId": "9f3d2417-ac85-4797-a9ff-5f2f7b0819be"
      },
      "execution_count": null,
      "outputs": [
        {
          "output_type": "stream",
          "name": "stdout",
          "text": [
            "list_1: [1, 2, 3, 4, 5]\n",
            "list_2: [1, 2, 3, 4]\n"
          ]
        }
      ]
    },
    {
      "cell_type": "code",
      "source": [
        "# •\t79). Python Program to delete given element from Array.\n",
        "\n",
        "size=int(input(\"Enter the number in array: \"))\n",
        "arr=[]\n",
        "\n",
        "for i in range(0,size):\n",
        "    elem=int(input(\"Please give value for index \"+str(i)+\": \"))\n",
        "    arr.append(elem)\n",
        "num=int(input(\"Enter a number to remove from array : \"))\n",
        "\n",
        "arr.remove(num)\n",
        "print(\"Array after removing\",num,\"=\",arr)"
      ],
      "metadata": {
        "colab": {
          "base_uri": "https://localhost:8080/"
        },
        "id": "3wd-4-ObB4w2",
        "outputId": "75a99e83-4ab4-4f31-ff23-77b8efe413e9"
      },
      "execution_count": null,
      "outputs": [
        {
          "output_type": "stream",
          "name": "stdout",
          "text": [
            "Enter the number in array: 3\n",
            "Please give value for index 0: 12\n",
            "Please give value for index 1: 10\n",
            "Please give value for index 2: 13\n",
            "Enter a number to remove from array : 10\n",
            "Array after removing 10 = [12, 13]\n"
          ]
        }
      ]
    },
    {
      "cell_type": "code",
      "source": [
        "# •\t80). Python Program to delete element from array at given index.\n",
        "\n",
        "arr = [\"a\", \"b\", \"c\"]\n",
        "\n",
        "del arr[1]\n",
        "\n",
        "print(arr)"
      ],
      "metadata": {
        "colab": {
          "base_uri": "https://localhost:8080/"
        },
        "id": "bb_YJu5lB4uy",
        "outputId": "48a743d2-0527-43d3-c355-12344d904e54"
      },
      "execution_count": null,
      "outputs": [
        {
          "output_type": "stream",
          "name": "stdout",
          "text": [
            "['a', 'c']\n"
          ]
        }
      ]
    },
    {
      "cell_type": "code",
      "source": [
        "# •\t81). Python Program to find sum of array elements.\n",
        "\n",
        "arr = [1, 2, 3, 4, 5]  \n",
        "sum = 0\n",
        "       \n",
        "for i in range(0, len(arr)):    \n",
        "   sum = sum + arr[i]    \n",
        "     \n",
        "print(\"sum of array elements:\",sum)   "
      ],
      "metadata": {
        "colab": {
          "base_uri": "https://localhost:8080/"
        },
        "id": "kDgMvnDnB4sp",
        "outputId": "94398012-0b63-4370-da58-4340eebc2a06"
      },
      "execution_count": null,
      "outputs": [
        {
          "output_type": "stream",
          "name": "stdout",
          "text": [
            "sum of array elements: 15\n"
          ]
        }
      ]
    },
    {
      "cell_type": "code",
      "source": [
        "# •\t82). Python Program to print all even numbers in array.\n",
        "\n",
        "arr = [15,12,78,69,32,45,16,26]\n",
        "\n",
        "for i in arr:\n",
        "   if i % 2 == 0:\n",
        "      print(i, end = \" \")"
      ],
      "metadata": {
        "colab": {
          "base_uri": "https://localhost:8080/"
        },
        "id": "p6DrrfA4B4qk",
        "outputId": "79c64862-e772-47f0-ff6c-d3f7537559f6"
      },
      "execution_count": null,
      "outputs": [
        {
          "output_type": "stream",
          "name": "stdout",
          "text": [
            "12 78 32 16 26 "
          ]
        }
      ]
    },
    {
      "cell_type": "code",
      "source": [
        "# •\t83). Python Program to print all odd numbers in array.\n",
        "\n",
        "arr = [15,12,78,69,32,45,16,26]\n",
        "\n",
        "for i in arr:\n",
        "   if i % 2 != 0:\n",
        "      print(i, end = \" \")"
      ],
      "metadata": {
        "colab": {
          "base_uri": "https://localhost:8080/"
        },
        "id": "sB0JRfkkB4oF",
        "outputId": "a3a6df52-fce0-442b-eb37-d7e95077d8bc"
      },
      "execution_count": null,
      "outputs": [
        {
          "output_type": "stream",
          "name": "stdout",
          "text": [
            "15 69 45 "
          ]
        }
      ]
    },
    {
      "cell_type": "code",
      "source": [
        "# •\t84). Python program to perform left rotation of array elements by two positions.\n",
        "\n",
        "def rotateArray(arr, n, d):\n",
        "    temp = []\n",
        "    i = 0\n",
        "    while (i < d):\n",
        "        temp.append(arr[i])\n",
        "        i = i + 1\n",
        "    i = 0\n",
        "    while (d < n):\n",
        "        arr[i] = arr[d]\n",
        "        i = i + 1\n",
        "        d = d + 1\n",
        "    arr[:] = arr[: i] + temp\n",
        "    return arr\n",
        " \n",
        "\n",
        "arr = [1, 2, 3, 4, 5, 6, 7, 8, 9]\n",
        "print(\"Array after left rotation is: \", end=' ')\n",
        "print(rotateArray(arr, len(arr), 2))"
      ],
      "metadata": {
        "id": "4ts0qu1oB4lP",
        "colab": {
          "base_uri": "https://localhost:8080/"
        },
        "outputId": "736e8f5b-ff6b-409c-b59c-09663003894f"
      },
      "execution_count": 1,
      "outputs": [
        {
          "output_type": "stream",
          "name": "stdout",
          "text": [
            "Array after left rotation is:  [3, 4, 5, 6, 7, 8, 9, 1, 2]\n"
          ]
        }
      ]
    },
    {
      "cell_type": "code",
      "source": [
        "# •\t85). Python program to perform right rotation in array by 2 positions.\n",
        "\n",
        "def rightRotate(lists, num):\n",
        "    output_list = []\n",
        " \n",
        "    for item in range(len(lists) - num, len(lists)):\n",
        "        output_list.append(lists[item])\n",
        "\n",
        "    for item in range(0, len(lists) - num):\n",
        "        output_list.append(lists[item])\n",
        " \n",
        "    return output_list\n",
        " \n",
        "rotate_num = 2\n",
        "list_1 = [1, 2, 3, 4, 5, 6]\n",
        " \n",
        "print(rightRotate(list_1, rotate_num))"
      ],
      "metadata": {
        "id": "S-krotrFB4hd",
        "colab": {
          "base_uri": "https://localhost:8080/"
        },
        "outputId": "a792cc15-07dd-4109-a0b3-f58fc81ab0c3"
      },
      "execution_count": 2,
      "outputs": [
        {
          "output_type": "stream",
          "name": "stdout",
          "text": [
            "[5, 6, 1, 2, 3, 4]\n"
          ]
        }
      ]
    },
    {
      "cell_type": "code",
      "source": [
        "# •\t86). Python Program to merge two arrays.\n",
        "\n",
        "def merge(arr1, arr2):\n",
        "    arr3 = arr1+arr2\n",
        "    arr3.sort()\n",
        "    return arr3\n",
        "    \n",
        "arr1 = [3, 5, 6, 10]\n",
        "arr2 = [1, 2, 7, 8, 11, 12]\n",
        "print(merge(arr1, arr2))"
      ],
      "metadata": {
        "colab": {
          "base_uri": "https://localhost:8080/"
        },
        "id": "aDSqh9ZwB4e2",
        "outputId": "2252053d-2160-442c-bb5f-4052e93a310b"
      },
      "execution_count": null,
      "outputs": [
        {
          "output_type": "stream",
          "name": "stdout",
          "text": [
            "[1, 2, 3, 5, 6, 7, 8, 10, 11, 12]\n"
          ]
        }
      ]
    },
    {
      "cell_type": "code",
      "source": [
        "# •\t87). Python Program to find highest frequency element in array.\n",
        "\n",
        "arr = [9, 4, 5, 4, 4, 5, 9, 5, 4]\n",
        "max = 0\n",
        "res = arr[0]\n",
        "for i in arr:\n",
        "    freq = arr.count(i)\n",
        "    if freq > max:\n",
        "        max = freq\n",
        "        res = i\n",
        "\n",
        "print (\"highest frequent element : \",res)"
      ],
      "metadata": {
        "colab": {
          "base_uri": "https://localhost:8080/"
        },
        "id": "7WWYdDf3B4cr",
        "outputId": "cc428e4d-3cae-40f1-c6a7-0a66bcd1973f"
      },
      "execution_count": null,
      "outputs": [
        {
          "output_type": "stream",
          "name": "stdout",
          "text": [
            "highest frequent element :  4\n"
          ]
        }
      ]
    },
    {
      "cell_type": "code",
      "source": [
        "# •\t88). Python Program to add two number using recursion.\n",
        "\n",
        "def sum(num1,num2):\n",
        "    if num2==0:\n",
        "        return num1\n",
        "    return sum(num1, num2-1)+1\n",
        "\n",
        "num1=int(input())\n",
        "num2=int(input())\n",
        "print(\"sum of two number is:\",sum(num1,num2))"
      ],
      "metadata": {
        "colab": {
          "base_uri": "https://localhost:8080/"
        },
        "id": "u7P6TCUNB4aD",
        "outputId": "2a638ba9-481f-4f7d-84ae-3120d34cd8f4"
      },
      "execution_count": null,
      "outputs": [
        {
          "output_type": "stream",
          "name": "stdout",
          "text": [
            "5\n",
            "3\n",
            "sum of two number is: 8\n"
          ]
        }
      ]
    },
    {
      "cell_type": "code",
      "source": [
        "# •\t89). Python Program to find sum of digit of number using recursion.\n",
        "\n",
        "def sum_of_digit( n ):\n",
        "    if n == 0:\n",
        "        return 0\n",
        "    return (n % 10 + sum_of_digit(int(n / 10)))\n",
        "\n",
        "num = int(input(\"Enter a number: \"))\n",
        "result = sum_of_digit(num)\n",
        "print(\"Sum of digits is:\", result)"
      ],
      "metadata": {
        "colab": {
          "base_uri": "https://localhost:8080/"
        },
        "id": "Y99I-g5UB4Xt",
        "outputId": "8952e20f-aed5-444a-ccf0-4ec31c58ff6c"
      },
      "execution_count": null,
      "outputs": [
        {
          "output_type": "stream",
          "name": "stdout",
          "text": [
            "Enter a number: 123\n",
            "Sum of digits is: 6\n"
          ]
        }
      ]
    }
  ]
}